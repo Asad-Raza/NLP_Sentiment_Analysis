{
 "cells": [
  {
   "cell_type": "markdown",
   "metadata": {},
   "source": [
    "# Nafisur Rahman\n",
    "nafisur21@gmail.com\n",
    "https://www.linkedin.com/in/nafisur-rahman"
   ]
  },
  {
   "cell_type": "markdown",
   "metadata": {},
   "source": [
    "## Sentiment Analysis on Amazon Reviews: Unlocked Mobile Phones\n",
    "PromptCloud extracted 400 thousand reviews of unlocked mobile phones sold on Amazon.com to find out insights with respect to reviews, ratings, price and their relationships."
   ]
  },
  {
   "cell_type": "markdown",
   "metadata": {},
   "source": [
    "## Sentiment Analysis\n",
    "Finding the sentiment (positive or negative) from Amazon reviews."
   ]
  },
  {
   "cell_type": "markdown",
   "metadata": {},
   "source": [
    "## A. Loading Libraries and Dataset"
   ]
  },
  {
   "cell_type": "code",
   "execution_count": 1,
   "metadata": {
    "collapsed": true
   },
   "outputs": [],
   "source": [
    "import nltk\n",
    "import re\n",
    "import numpy as np # linear algebra\n",
    "import pandas as pd # data processing\n",
    "import random\n",
    "import matplotlib.pyplot as plt\n",
    "\n",
    "from bs4 import BeautifulSoup\n",
    "from nltk.corpus import stopwords\n",
    "from string import punctuation\n",
    "from nltk.stem import SnowballStemmer\n",
    "stemmer=SnowballStemmer('english')\n",
    "\n",
    "from sklearn.metrics import accuracy_score\n",
    "from sklearn.metrics import confusion_matrix\n",
    "from sklearn.metrics import roc_auc_score\n",
    "from sklearn.metrics import f1_score\n",
    "from sklearn.metrics import precision_score\n",
    "from sklearn.metrics import recall_score\n",
    "\n",
    "from sklearn.model_selection import train_test_split\n",
    "from sklearn.feature_extraction.text import CountVectorizer\n",
    "from sklearn.feature_extraction.text import TfidfVectorizer\n",
    "\n",
    "from nltk.tokenize import word_tokenize\n",
    "\n",
    "%matplotlib inline"
   ]
  },
  {
   "cell_type": "code",
   "execution_count": 2,
   "metadata": {},
   "outputs": [
    {
     "data": {
      "text/html": [
       "<div>\n",
       "<style scoped>\n",
       "    .dataframe tbody tr th:only-of-type {\n",
       "        vertical-align: middle;\n",
       "    }\n",
       "\n",
       "    .dataframe tbody tr th {\n",
       "        vertical-align: top;\n",
       "    }\n",
       "\n",
       "    .dataframe thead th {\n",
       "        text-align: right;\n",
       "    }\n",
       "</style>\n",
       "<table border=\"1\" class=\"dataframe\">\n",
       "  <thead>\n",
       "    <tr style=\"text-align: right;\">\n",
       "      <th></th>\n",
       "      <th>Product Name</th>\n",
       "      <th>Brand Name</th>\n",
       "      <th>Price</th>\n",
       "      <th>Rating</th>\n",
       "      <th>Reviews</th>\n",
       "      <th>Review Votes</th>\n",
       "    </tr>\n",
       "  </thead>\n",
       "  <tbody>\n",
       "    <tr>\n",
       "      <th>0</th>\n",
       "      <td>\"CLEAR CLEAN ESN\" Sprint EPIC 4G Galaxy SPH-D7...</td>\n",
       "      <td>Samsung</td>\n",
       "      <td>199.99</td>\n",
       "      <td>5</td>\n",
       "      <td>I feel so LUCKY to have found this used (phone...</td>\n",
       "      <td>1.0</td>\n",
       "    </tr>\n",
       "    <tr>\n",
       "      <th>1</th>\n",
       "      <td>\"CLEAR CLEAN ESN\" Sprint EPIC 4G Galaxy SPH-D7...</td>\n",
       "      <td>Samsung</td>\n",
       "      <td>199.99</td>\n",
       "      <td>4</td>\n",
       "      <td>nice phone, nice up grade from my pantach revu...</td>\n",
       "      <td>0.0</td>\n",
       "    </tr>\n",
       "    <tr>\n",
       "      <th>2</th>\n",
       "      <td>\"CLEAR CLEAN ESN\" Sprint EPIC 4G Galaxy SPH-D7...</td>\n",
       "      <td>Samsung</td>\n",
       "      <td>199.99</td>\n",
       "      <td>5</td>\n",
       "      <td>Very pleased</td>\n",
       "      <td>0.0</td>\n",
       "    </tr>\n",
       "    <tr>\n",
       "      <th>3</th>\n",
       "      <td>\"CLEAR CLEAN ESN\" Sprint EPIC 4G Galaxy SPH-D7...</td>\n",
       "      <td>Samsung</td>\n",
       "      <td>199.99</td>\n",
       "      <td>4</td>\n",
       "      <td>It works good but it goes slow sometimes but i...</td>\n",
       "      <td>0.0</td>\n",
       "    </tr>\n",
       "    <tr>\n",
       "      <th>4</th>\n",
       "      <td>\"CLEAR CLEAN ESN\" Sprint EPIC 4G Galaxy SPH-D7...</td>\n",
       "      <td>Samsung</td>\n",
       "      <td>199.99</td>\n",
       "      <td>4</td>\n",
       "      <td>Great phone to replace my lost phone. The only...</td>\n",
       "      <td>0.0</td>\n",
       "    </tr>\n",
       "  </tbody>\n",
       "</table>\n",
       "</div>"
      ],
      "text/plain": [
       "                                        Product Name Brand Name   Price  \\\n",
       "0  \"CLEAR CLEAN ESN\" Sprint EPIC 4G Galaxy SPH-D7...    Samsung  199.99   \n",
       "1  \"CLEAR CLEAN ESN\" Sprint EPIC 4G Galaxy SPH-D7...    Samsung  199.99   \n",
       "2  \"CLEAR CLEAN ESN\" Sprint EPIC 4G Galaxy SPH-D7...    Samsung  199.99   \n",
       "3  \"CLEAR CLEAN ESN\" Sprint EPIC 4G Galaxy SPH-D7...    Samsung  199.99   \n",
       "4  \"CLEAR CLEAN ESN\" Sprint EPIC 4G Galaxy SPH-D7...    Samsung  199.99   \n",
       "\n",
       "   Rating                                            Reviews  Review Votes  \n",
       "0       5  I feel so LUCKY to have found this used (phone...           1.0  \n",
       "1       4  nice phone, nice up grade from my pantach revu...           0.0  \n",
       "2       5                                       Very pleased           0.0  \n",
       "3       4  It works good but it goes slow sometimes but i...           0.0  \n",
       "4       4  Great phone to replace my lost phone. The only...           0.0  "
      ]
     },
     "execution_count": 2,
     "metadata": {},
     "output_type": "execute_result"
    }
   ],
   "source": [
    "raw_dataset=pd.read_csv('Amazon_Unlocked_Mobile.csv')\n",
    "raw_dataset.head()"
   ]
  },
  {
   "cell_type": "markdown",
   "metadata": {},
   "source": [
    "### Basic visualization of dataset"
   ]
  },
  {
   "cell_type": "code",
   "execution_count": 3,
   "metadata": {},
   "outputs": [
    {
     "name": "stdout",
     "output_type": "stream",
     "text": [
      "<class 'pandas.core.frame.DataFrame'>\n",
      "RangeIndex: 413840 entries, 0 to 413839\n",
      "Data columns (total 6 columns):\n",
      "Product Name    413840 non-null object\n",
      "Brand Name      348669 non-null object\n",
      "Price           407907 non-null float64\n",
      "Rating          413840 non-null int64\n",
      "Reviews         413778 non-null object\n",
      "Review Votes    401544 non-null float64\n",
      "dtypes: float64(2), int64(1), object(3)\n",
      "memory usage: 18.9+ MB\n"
     ]
    }
   ],
   "source": [
    "df=raw_dataset\n",
    "df.info()"
   ]
  },
  {
   "cell_type": "markdown",
   "metadata": {},
   "source": [
    "selecting only two columns that is Reviews and Rating"
   ]
  },
  {
   "cell_type": "code",
   "execution_count": 4,
   "metadata": {
    "collapsed": true
   },
   "outputs": [],
   "source": [
    "df=df[['Reviews','Rating']]\n"
   ]
  },
  {
   "cell_type": "code",
   "execution_count": 5,
   "metadata": {},
   "outputs": [
    {
     "data": {
      "text/html": [
       "<div>\n",
       "<style scoped>\n",
       "    .dataframe tbody tr th:only-of-type {\n",
       "        vertical-align: middle;\n",
       "    }\n",
       "\n",
       "    .dataframe tbody tr th {\n",
       "        vertical-align: top;\n",
       "    }\n",
       "\n",
       "    .dataframe thead th {\n",
       "        text-align: right;\n",
       "    }\n",
       "</style>\n",
       "<table border=\"1\" class=\"dataframe\">\n",
       "  <thead>\n",
       "    <tr style=\"text-align: right;\">\n",
       "      <th></th>\n",
       "      <th>Reviews</th>\n",
       "      <th>Rating</th>\n",
       "    </tr>\n",
       "  </thead>\n",
       "  <tbody>\n",
       "    <tr>\n",
       "      <th>0</th>\n",
       "      <td>I feel so LUCKY to have found this used (phone...</td>\n",
       "      <td>5</td>\n",
       "    </tr>\n",
       "    <tr>\n",
       "      <th>1</th>\n",
       "      <td>nice phone, nice up grade from my pantach revu...</td>\n",
       "      <td>4</td>\n",
       "    </tr>\n",
       "    <tr>\n",
       "      <th>2</th>\n",
       "      <td>Very pleased</td>\n",
       "      <td>5</td>\n",
       "    </tr>\n",
       "    <tr>\n",
       "      <th>3</th>\n",
       "      <td>It works good but it goes slow sometimes but i...</td>\n",
       "      <td>4</td>\n",
       "    </tr>\n",
       "    <tr>\n",
       "      <th>4</th>\n",
       "      <td>Great phone to replace my lost phone. The only...</td>\n",
       "      <td>4</td>\n",
       "    </tr>\n",
       "  </tbody>\n",
       "</table>\n",
       "</div>"
      ],
      "text/plain": [
       "                                             Reviews  Rating\n",
       "0  I feel so LUCKY to have found this used (phone...       5\n",
       "1  nice phone, nice up grade from my pantach revu...       4\n",
       "2                                       Very pleased       5\n",
       "3  It works good but it goes slow sometimes but i...       4\n",
       "4  Great phone to replace my lost phone. The only...       4"
      ]
     },
     "execution_count": 5,
     "metadata": {},
     "output_type": "execute_result"
    }
   ],
   "source": [
    "df.head()"
   ]
  },
  {
   "cell_type": "code",
   "execution_count": 6,
   "metadata": {},
   "outputs": [
    {
     "name": "stdout",
     "output_type": "stream",
     "text": [
      "<class 'pandas.core.frame.DataFrame'>\n",
      "RangeIndex: 413840 entries, 0 to 413839\n",
      "Data columns (total 2 columns):\n",
      "Reviews    413778 non-null object\n",
      "Rating     413840 non-null int64\n",
      "dtypes: int64(1), object(1)\n",
      "memory usage: 6.3+ MB\n"
     ]
    }
   ],
   "source": [
    "df.info()"
   ]
  },
  {
   "cell_type": "markdown",
   "metadata": {},
   "source": [
    "Removing rows with missing values"
   ]
  },
  {
   "cell_type": "code",
   "execution_count": 7,
   "metadata": {},
   "outputs": [
    {
     "name": "stdout",
     "output_type": "stream",
     "text": [
      "<class 'pandas.core.frame.DataFrame'>\n",
      "Int64Index: 413778 entries, 0 to 413839\n",
      "Data columns (total 2 columns):\n",
      "Reviews    413778 non-null object\n",
      "Rating     413778 non-null int64\n",
      "dtypes: int64(1), object(1)\n",
      "memory usage: 9.5+ MB\n"
     ]
    }
   ],
   "source": [
    "df=df.dropna()\n",
    "df.info()"
   ]
  },
  {
   "cell_type": "markdown",
   "metadata": {},
   "source": [
    "Removing rows with rating=3 that is neutral sentiment"
   ]
  },
  {
   "cell_type": "code",
   "execution_count": 8,
   "metadata": {},
   "outputs": [
    {
     "name": "stdout",
     "output_type": "stream",
     "text": [
      "<class 'pandas.core.frame.DataFrame'>\n",
      "Int64Index: 382015 entries, 0 to 413839\n",
      "Data columns (total 2 columns):\n",
      "Reviews    382015 non-null object\n",
      "Rating     382015 non-null int64\n",
      "dtypes: int64(1), object(1)\n",
      "memory usage: 8.7+ MB\n"
     ]
    }
   ],
   "source": [
    "df=df[df['Rating']!=3]\n",
    "df.info()"
   ]
  },
  {
   "cell_type": "code",
   "execution_count": 9,
   "metadata": {},
   "outputs": [
    {
     "name": "stdout",
     "output_type": "stream",
     "text": [
      "<class 'pandas.core.frame.DataFrame'>\n",
      "RangeIndex: 382015 entries, 0 to 382014\n",
      "Data columns (total 2 columns):\n",
      "Reviews    382015 non-null object\n",
      "Rating     382015 non-null int64\n",
      "dtypes: int64(1), object(1)\n",
      "memory usage: 5.8+ MB\n"
     ]
    }
   ],
   "source": [
    "df=df.reset_index(drop=True)\n",
    "df.info()"
   ]
  },
  {
   "cell_type": "code",
   "execution_count": 10,
   "metadata": {},
   "outputs": [
    {
     "data": {
      "text/html": [
       "<div>\n",
       "<style scoped>\n",
       "    .dataframe tbody tr th:only-of-type {\n",
       "        vertical-align: middle;\n",
       "    }\n",
       "\n",
       "    .dataframe tbody tr th {\n",
       "        vertical-align: top;\n",
       "    }\n",
       "\n",
       "    .dataframe thead th {\n",
       "        text-align: right;\n",
       "    }\n",
       "</style>\n",
       "<table border=\"1\" class=\"dataframe\">\n",
       "  <thead>\n",
       "    <tr style=\"text-align: right;\">\n",
       "      <th></th>\n",
       "      <th>Reviews</th>\n",
       "      <th>Rating</th>\n",
       "      <th>sentiment</th>\n",
       "    </tr>\n",
       "  </thead>\n",
       "  <tbody>\n",
       "    <tr>\n",
       "      <th>0</th>\n",
       "      <td>I feel so LUCKY to have found this used (phone...</td>\n",
       "      <td>5</td>\n",
       "      <td>1</td>\n",
       "    </tr>\n",
       "    <tr>\n",
       "      <th>1</th>\n",
       "      <td>nice phone, nice up grade from my pantach revu...</td>\n",
       "      <td>4</td>\n",
       "      <td>1</td>\n",
       "    </tr>\n",
       "    <tr>\n",
       "      <th>2</th>\n",
       "      <td>Very pleased</td>\n",
       "      <td>5</td>\n",
       "      <td>1</td>\n",
       "    </tr>\n",
       "    <tr>\n",
       "      <th>3</th>\n",
       "      <td>It works good but it goes slow sometimes but i...</td>\n",
       "      <td>4</td>\n",
       "      <td>1</td>\n",
       "    </tr>\n",
       "    <tr>\n",
       "      <th>4</th>\n",
       "      <td>Great phone to replace my lost phone. The only...</td>\n",
       "      <td>4</td>\n",
       "      <td>1</td>\n",
       "    </tr>\n",
       "  </tbody>\n",
       "</table>\n",
       "</div>"
      ],
      "text/plain": [
       "                                             Reviews  Rating  sentiment\n",
       "0  I feel so LUCKY to have found this used (phone...       5          1\n",
       "1  nice phone, nice up grade from my pantach revu...       4          1\n",
       "2                                       Very pleased       5          1\n",
       "3  It works good but it goes slow sometimes but i...       4          1\n",
       "4  Great phone to replace my lost phone. The only...       4          1"
      ]
     },
     "execution_count": 10,
     "metadata": {},
     "output_type": "execute_result"
    }
   ],
   "source": [
    "df['sentiment']=np.where(df['Rating'] > 3, 1, 0)\n",
    "df.head()"
   ]
  },
  {
   "cell_type": "code",
   "execution_count": 11,
   "metadata": {},
   "outputs": [
    {
     "data": {
      "text/html": [
       "<div>\n",
       "<style scoped>\n",
       "    .dataframe tbody tr th:only-of-type {\n",
       "        vertical-align: middle;\n",
       "    }\n",
       "\n",
       "    .dataframe tbody tr th {\n",
       "        vertical-align: top;\n",
       "    }\n",
       "\n",
       "    .dataframe thead th {\n",
       "        text-align: right;\n",
       "    }\n",
       "</style>\n",
       "<table border=\"1\" class=\"dataframe\">\n",
       "  <thead>\n",
       "    <tr style=\"text-align: right;\">\n",
       "      <th></th>\n",
       "      <th>Reviews</th>\n",
       "      <th>Rating</th>\n",
       "      <th>sentiment</th>\n",
       "    </tr>\n",
       "  </thead>\n",
       "  <tbody>\n",
       "    <tr>\n",
       "      <th>382010</th>\n",
       "      <td>good rugged phone that has a long-lasting batt...</td>\n",
       "      <td>4</td>\n",
       "      <td>1</td>\n",
       "    </tr>\n",
       "    <tr>\n",
       "      <th>382011</th>\n",
       "      <td>used hard</td>\n",
       "      <td>1</td>\n",
       "      <td>0</td>\n",
       "    </tr>\n",
       "    <tr>\n",
       "      <th>382012</th>\n",
       "      <td>another great deal great price</td>\n",
       "      <td>5</td>\n",
       "      <td>1</td>\n",
       "    </tr>\n",
       "    <tr>\n",
       "      <th>382013</th>\n",
       "      <td>Passes every drop test onto porcelain tile!</td>\n",
       "      <td>5</td>\n",
       "      <td>1</td>\n",
       "    </tr>\n",
       "    <tr>\n",
       "      <th>382014</th>\n",
       "      <td>Only downside is that apparently Verizon no lo...</td>\n",
       "      <td>4</td>\n",
       "      <td>1</td>\n",
       "    </tr>\n",
       "  </tbody>\n",
       "</table>\n",
       "</div>"
      ],
      "text/plain": [
       "                                                  Reviews  Rating  sentiment\n",
       "382010  good rugged phone that has a long-lasting batt...       4          1\n",
       "382011                                          used hard       1          0\n",
       "382012                     another great deal great price       5          1\n",
       "382013        Passes every drop test onto porcelain tile!       5          1\n",
       "382014  Only downside is that apparently Verizon no lo...       4          1"
      ]
     },
     "execution_count": 11,
     "metadata": {},
     "output_type": "execute_result"
    }
   ],
   "source": [
    "df.tail()"
   ]
  },
  {
   "cell_type": "markdown",
   "metadata": {},
   "source": [
    "## B. Data Cleaning and Text Preprocessing"
   ]
  },
  {
   "cell_type": "code",
   "execution_count": 12,
   "metadata": {
    "collapsed": true
   },
   "outputs": [],
   "source": [
    "Cstopwords=set(stopwords.words('english')+list(punctuation))\n",
    "from nltk.stem import WordNetLemmatizer\n",
    "lemma=WordNetLemmatizer()\n",
    "def clean_review(review_column):\n",
    "    review_corpus=[]\n",
    "    for i in range(0,len(review_column)):\n",
    "        review=review_column[i]\n",
    "        #review=BeautifulSoup(review,'lxml').text\n",
    "        review=re.sub('[^a-zA-Z]',' ',review)\n",
    "        review=str(review).lower()\n",
    "        review=word_tokenize(review)\n",
    "        #review=[stemmer.stem(w) for w in review if w not in Cstopwords]\n",
    "        review=[lemma.lemmatize(w) for w in review ]\n",
    "        review=' '.join(review)\n",
    "        review_corpus.append(review)\n",
    "    return review_corpus"
   ]
  },
  {
   "cell_type": "code",
   "execution_count": 13,
   "metadata": {
    "collapsed": true
   },
   "outputs": [],
   "source": [
    "review_column=df['Reviews']\n",
    "review_corpus=clean_review(review_column)"
   ]
  },
  {
   "cell_type": "code",
   "execution_count": 14,
   "metadata": {},
   "outputs": [
    {
     "data": {
      "text/html": [
       "<div>\n",
       "<style scoped>\n",
       "    .dataframe tbody tr th:only-of-type {\n",
       "        vertical-align: middle;\n",
       "    }\n",
       "\n",
       "    .dataframe tbody tr th {\n",
       "        vertical-align: top;\n",
       "    }\n",
       "\n",
       "    .dataframe thead th {\n",
       "        text-align: right;\n",
       "    }\n",
       "</style>\n",
       "<table border=\"1\" class=\"dataframe\">\n",
       "  <thead>\n",
       "    <tr style=\"text-align: right;\">\n",
       "      <th></th>\n",
       "      <th>Reviews</th>\n",
       "      <th>Rating</th>\n",
       "      <th>sentiment</th>\n",
       "      <th>clean_review</th>\n",
       "    </tr>\n",
       "  </thead>\n",
       "  <tbody>\n",
       "    <tr>\n",
       "      <th>381995</th>\n",
       "      <td>This phone is simple, very good , and it works...</td>\n",
       "      <td>5</td>\n",
       "      <td>1</td>\n",
       "      <td>this phone is simple very good and it work exc...</td>\n",
       "    </tr>\n",
       "    <tr>\n",
       "      <th>381996</th>\n",
       "      <td>Good sturdy phone for a pre-teen to have avail...</td>\n",
       "      <td>4</td>\n",
       "      <td>1</td>\n",
       "      <td>good sturdy phone for a pre teen to have avail...</td>\n",
       "    </tr>\n",
       "    <tr>\n",
       "      <th>381997</th>\n",
       "      <td>This is the second junk Convoy I have owned. T...</td>\n",
       "      <td>1</td>\n",
       "      <td>0</td>\n",
       "      <td>this is the second junk convoy i have owned th...</td>\n",
       "    </tr>\n",
       "    <tr>\n",
       "      <th>381998</th>\n",
       "      <td>I BOUGHT THIS PHONE FOR MY HUSBAND AND HE LOVE...</td>\n",
       "      <td>5</td>\n",
       "      <td>1</td>\n",
       "      <td>i bought this phone for my husband and he love...</td>\n",
       "    </tr>\n",
       "    <tr>\n",
       "      <th>381999</th>\n",
       "      <td>They said phone was normal wear but it was a l...</td>\n",
       "      <td>1</td>\n",
       "      <td>0</td>\n",
       "      <td>they said phone wa normal wear but it wa a lie...</td>\n",
       "    </tr>\n",
       "    <tr>\n",
       "      <th>382000</th>\n",
       "      <td>You could shoot this out of a potato gun, and ...</td>\n",
       "      <td>5</td>\n",
       "      <td>1</td>\n",
       "      <td>you could shoot this out of a potato gun and p...</td>\n",
       "    </tr>\n",
       "    <tr>\n",
       "      <th>382001</th>\n",
       "      <td>Bought this for my mother and she loves it. Gr...</td>\n",
       "      <td>5</td>\n",
       "      <td>1</td>\n",
       "      <td>bought this for my mother and she love it grea...</td>\n",
       "    </tr>\n",
       "    <tr>\n",
       "      <th>382002</th>\n",
       "      <td>Excellent phone, as advertised. Love the push-...</td>\n",
       "      <td>5</td>\n",
       "      <td>1</td>\n",
       "      <td>excellent phone a advertised love the push to ...</td>\n",
       "    </tr>\n",
       "    <tr>\n",
       "      <th>382003</th>\n",
       "      <td>works great and picks up signal in place my ot...</td>\n",
       "      <td>4</td>\n",
       "      <td>1</td>\n",
       "      <td>work great and pick up signal in place my othe...</td>\n",
       "    </tr>\n",
       "    <tr>\n",
       "      <th>382004</th>\n",
       "      <td>Great phone. Large keys, best flip phone I hav...</td>\n",
       "      <td>5</td>\n",
       "      <td>1</td>\n",
       "      <td>great phone large key best flip phone i have o...</td>\n",
       "    </tr>\n",
       "    <tr>\n",
       "      <th>382005</th>\n",
       "      <td>Pros...Works great, very durable, easy to navi...</td>\n",
       "      <td>5</td>\n",
       "      <td>1</td>\n",
       "      <td>pro work great very durable easy to navigate s...</td>\n",
       "    </tr>\n",
       "    <tr>\n",
       "      <th>382006</th>\n",
       "      <td>just as described perfect for the price</td>\n",
       "      <td>5</td>\n",
       "      <td>1</td>\n",
       "      <td>just a described perfect for the price</td>\n",
       "    </tr>\n",
       "    <tr>\n",
       "      <th>382007</th>\n",
       "      <td>Would not work</td>\n",
       "      <td>1</td>\n",
       "      <td>0</td>\n",
       "      <td>would not work</td>\n",
       "    </tr>\n",
       "    <tr>\n",
       "      <th>382008</th>\n",
       "      <td>LOVE IT</td>\n",
       "      <td>5</td>\n",
       "      <td>1</td>\n",
       "      <td>love it</td>\n",
       "    </tr>\n",
       "    <tr>\n",
       "      <th>382009</th>\n",
       "      <td>Item was listed as new, but was not. When we t...</td>\n",
       "      <td>1</td>\n",
       "      <td>0</td>\n",
       "      <td>item wa listed a new but wa not when we tried ...</td>\n",
       "    </tr>\n",
       "    <tr>\n",
       "      <th>382010</th>\n",
       "      <td>good rugged phone that has a long-lasting batt...</td>\n",
       "      <td>4</td>\n",
       "      <td>1</td>\n",
       "      <td>good rugged phone that ha a long lasting batte...</td>\n",
       "    </tr>\n",
       "    <tr>\n",
       "      <th>382011</th>\n",
       "      <td>used hard</td>\n",
       "      <td>1</td>\n",
       "      <td>0</td>\n",
       "      <td>used hard</td>\n",
       "    </tr>\n",
       "    <tr>\n",
       "      <th>382012</th>\n",
       "      <td>another great deal great price</td>\n",
       "      <td>5</td>\n",
       "      <td>1</td>\n",
       "      <td>another great deal great price</td>\n",
       "    </tr>\n",
       "    <tr>\n",
       "      <th>382013</th>\n",
       "      <td>Passes every drop test onto porcelain tile!</td>\n",
       "      <td>5</td>\n",
       "      <td>1</td>\n",
       "      <td>pass every drop test onto porcelain tile</td>\n",
       "    </tr>\n",
       "    <tr>\n",
       "      <th>382014</th>\n",
       "      <td>Only downside is that apparently Verizon no lo...</td>\n",
       "      <td>4</td>\n",
       "      <td>1</td>\n",
       "      <td>only downside is that apparently verizon no lo...</td>\n",
       "    </tr>\n",
       "  </tbody>\n",
       "</table>\n",
       "</div>"
      ],
      "text/plain": [
       "                                                  Reviews  Rating  sentiment  \\\n",
       "381995  This phone is simple, very good , and it works...       5          1   \n",
       "381996  Good sturdy phone for a pre-teen to have avail...       4          1   \n",
       "381997  This is the second junk Convoy I have owned. T...       1          0   \n",
       "381998  I BOUGHT THIS PHONE FOR MY HUSBAND AND HE LOVE...       5          1   \n",
       "381999  They said phone was normal wear but it was a l...       1          0   \n",
       "382000  You could shoot this out of a potato gun, and ...       5          1   \n",
       "382001  Bought this for my mother and she loves it. Gr...       5          1   \n",
       "382002  Excellent phone, as advertised. Love the push-...       5          1   \n",
       "382003  works great and picks up signal in place my ot...       4          1   \n",
       "382004  Great phone. Large keys, best flip phone I hav...       5          1   \n",
       "382005  Pros...Works great, very durable, easy to navi...       5          1   \n",
       "382006            just as described perfect for the price       5          1   \n",
       "382007                                     Would not work       1          0   \n",
       "382008                                            LOVE IT       5          1   \n",
       "382009  Item was listed as new, but was not. When we t...       1          0   \n",
       "382010  good rugged phone that has a long-lasting batt...       4          1   \n",
       "382011                                          used hard       1          0   \n",
       "382012                     another great deal great price       5          1   \n",
       "382013        Passes every drop test onto porcelain tile!       5          1   \n",
       "382014  Only downside is that apparently Verizon no lo...       4          1   \n",
       "\n",
       "                                             clean_review  \n",
       "381995  this phone is simple very good and it work exc...  \n",
       "381996  good sturdy phone for a pre teen to have avail...  \n",
       "381997  this is the second junk convoy i have owned th...  \n",
       "381998  i bought this phone for my husband and he love...  \n",
       "381999  they said phone wa normal wear but it wa a lie...  \n",
       "382000  you could shoot this out of a potato gun and p...  \n",
       "382001  bought this for my mother and she love it grea...  \n",
       "382002  excellent phone a advertised love the push to ...  \n",
       "382003  work great and pick up signal in place my othe...  \n",
       "382004  great phone large key best flip phone i have o...  \n",
       "382005  pro work great very durable easy to navigate s...  \n",
       "382006             just a described perfect for the price  \n",
       "382007                                     would not work  \n",
       "382008                                            love it  \n",
       "382009  item wa listed a new but wa not when we tried ...  \n",
       "382010  good rugged phone that ha a long lasting batte...  \n",
       "382011                                          used hard  \n",
       "382012                     another great deal great price  \n",
       "382013           pass every drop test onto porcelain tile  \n",
       "382014  only downside is that apparently verizon no lo...  "
      ]
     },
     "execution_count": 14,
     "metadata": {},
     "output_type": "execute_result"
    }
   ],
   "source": [
    "df['clean_review']=review_corpus\n",
    "df.tail(20)"
   ]
  },
  {
   "cell_type": "markdown",
   "metadata": {},
   "source": [
    "## C. Creating Features"
   ]
  },
  {
   "cell_type": "markdown",
   "metadata": {},
   "source": [
    "### 1. Bag of words model\n",
    "* CountVectorizer"
   ]
  },
  {
   "cell_type": "code",
   "execution_count": 15,
   "metadata": {
    "collapsed": true
   },
   "outputs": [],
   "source": [
    "from sklearn.feature_extraction.text import CountVectorizer"
   ]
  },
  {
   "cell_type": "code",
   "execution_count": 16,
   "metadata": {
    "collapsed": true
   },
   "outputs": [],
   "source": [
    "cv=CountVectorizer(max_features=20000,min_df=5,ngram_range=(1,2))"
   ]
  },
  {
   "cell_type": "code",
   "execution_count": 17,
   "metadata": {},
   "outputs": [
    {
     "data": {
      "text/plain": [
       "(382015, 20000)"
      ]
     },
     "execution_count": 17,
     "metadata": {},
     "output_type": "execute_result"
    }
   ],
   "source": [
    "X1=cv.fit_transform(df['clean_review'])\n",
    "X1.shape"
   ]
  },
  {
   "cell_type": "markdown",
   "metadata": {},
   "source": [
    "### 2. Tfidf "
   ]
  },
  {
   "cell_type": "code",
   "execution_count": 18,
   "metadata": {
    "collapsed": true
   },
   "outputs": [],
   "source": [
    "from sklearn.feature_extraction.text import TfidfVectorizer"
   ]
  },
  {
   "cell_type": "code",
   "execution_count": 19,
   "metadata": {
    "collapsed": true
   },
   "outputs": [],
   "source": [
    "tfidf=TfidfVectorizer(min_df=5, max_df=0.95, max_features = 20000, ngram_range = ( 1, 2 ),\n",
    "                              sublinear_tf = True)"
   ]
  },
  {
   "cell_type": "code",
   "execution_count": 20,
   "metadata": {
    "collapsed": true
   },
   "outputs": [],
   "source": [
    "tfidf=tfidf.fit(df['clean_review'])"
   ]
  },
  {
   "cell_type": "code",
   "execution_count": 21,
   "metadata": {},
   "outputs": [
    {
     "data": {
      "text/plain": [
       "(382015, 20000)"
      ]
     },
     "execution_count": 21,
     "metadata": {},
     "output_type": "execute_result"
    }
   ],
   "source": [
    "X2=tfidf.transform(df['clean_review'])\n",
    "X2.shape"
   ]
  },
  {
   "cell_type": "code",
   "execution_count": 22,
   "metadata": {},
   "outputs": [
    {
     "data": {
      "text/plain": [
       "(382015,)"
      ]
     },
     "execution_count": 22,
     "metadata": {},
     "output_type": "execute_result"
    }
   ],
   "source": [
    "y=df['sentiment'].values\n",
    "y.shape"
   ]
  },
  {
   "cell_type": "markdown",
   "metadata": {},
   "source": [
    "## D. Machine Learning"
   ]
  },
  {
   "cell_type": "markdown",
   "metadata": {},
   "source": [
    "#### Splitting data into Training and Test set"
   ]
  },
  {
   "cell_type": "code",
   "execution_count": 30,
   "metadata": {
    "collapsed": true
   },
   "outputs": [],
   "source": [
    "X=X2 #X1 for bag of words model and X2 for Tfidf model"
   ]
  },
  {
   "cell_type": "code",
   "execution_count": 31,
   "metadata": {},
   "outputs": [
    {
     "name": "stdout",
     "output_type": "stream",
     "text": [
      "(305612, 20000) (305612,)\n",
      "(76403, 20000) (76403,)\n"
     ]
    }
   ],
   "source": [
    "# train test split\n",
    "from sklearn.model_selection import train_test_split\n",
    "X_train, X_test, y_train, y_test = train_test_split(X, y, test_size=0.2, random_state=0)\n",
    "print(X_train.shape, y_train.shape)\n",
    "print(X_test.shape, y_test.shape)"
   ]
  },
  {
   "cell_type": "code",
   "execution_count": 32,
   "metadata": {},
   "outputs": [
    {
     "name": "stdout",
     "output_type": "stream",
     "text": [
      "mean positive review in train : 0.746\n",
      "mean positive review in test : 0.745\n"
     ]
    }
   ],
   "source": [
    "# average positive reviews in train and test\n",
    "print('mean positive review in train : {0:.3f}'.format(np.mean(y_train)))\n",
    "print('mean positive review in test : {0:.3f}'.format(np.mean(y_test)))"
   ]
  },
  {
   "cell_type": "markdown",
   "metadata": {},
   "source": [
    "### 1. Logistic Regression"
   ]
  },
  {
   "cell_type": "code",
   "execution_count": 33,
   "metadata": {
    "collapsed": true
   },
   "outputs": [],
   "source": [
    "from sklearn.linear_model import LogisticRegression as lr"
   ]
  },
  {
   "cell_type": "code",
   "execution_count": 34,
   "metadata": {
    "collapsed": true
   },
   "outputs": [],
   "source": [
    "model_lr=lr(random_state=0)"
   ]
  },
  {
   "cell_type": "markdown",
   "metadata": {},
   "source": [
    "%%time\n",
    "from sklearn.model_selection import GridSearchCV\n",
    "parameters = {'C':[0.5,1.0, 10.0], 'penalty' : ['l1','l2']}\n",
    "grid_search = GridSearchCV(estimator = model_lr,\n",
    "                           param_grid = parameters,\n",
    "                           scoring = 'accuracy',\n",
    "                           cv = 10,\n",
    "                           n_jobs = -1)\n",
    "grid_search = grid_search.fit(X_train, y_train)\n",
    "best_accuracy = grid_search.best_score_\n",
    "best_parameters = grid_search.best_params_\n",
    "print('Best Accuracy :',best_accuracy)\n",
    "print('Best parameters:\\n',best_parameters)"
   ]
  },
  {
   "cell_type": "code",
   "execution_count": 35,
   "metadata": {},
   "outputs": [
    {
     "name": "stdout",
     "output_type": "stream",
     "text": [
      "accuracy for Logistic Regression : 0.96234441056\n",
      "confusion matrix for Logistic Regression:\n",
      " [[17833  1632]\n",
      " [ 1245 55693]]\n",
      "F1 score for Logistic Regression : 0.974821245723\n",
      "Precision score for Logistic Regression : 0.971530745748\n",
      "recall score for Logistic Regression : 0.978134110787\n",
      "AUC:  0.947145658014\n",
      "Wall time: 5.42 s\n"
     ]
    }
   ],
   "source": [
    "%%time\n",
    "model_lr=lr(penalty='l2',C=1.0,random_state=0)\n",
    "model_lr.fit(X_train,y_train)\n",
    "y_pred_lr=model_lr.predict(X_test)\n",
    "print('accuracy for Logistic Regression :',accuracy_score(y_test,y_pred_lr))\n",
    "print('confusion matrix for Logistic Regression:\\n',confusion_matrix(y_test,y_pred_lr))\n",
    "print('F1 score for Logistic Regression :',f1_score(y_test,y_pred_lr))\n",
    "print('Precision score for Logistic Regression :',precision_score(y_test,y_pred_lr))\n",
    "print('recall score for Logistic Regression :',recall_score(y_test,y_pred_lr))\n",
    "print('AUC: ', roc_auc_score(y_test, y_pred_lr))"
   ]
  },
  {
   "cell_type": "code",
   "execution_count": 36,
   "metadata": {},
   "outputs": [
    {
     "name": "stdout",
     "output_type": "stream",
     "text": [
      "Smallest Coefs:\n",
      "['not' 'worst' 'disappointed' 'not happy' 'poor' 'terrible' 'doesn'\n",
      " 'horrible' 'useless' 'return']\n",
      "\n",
      "Largest Coefs: \n",
      "['great' 'love' 'excellent' 'perfect' 'no problem' 'amazing' 'awesome'\n",
      " 'best' 'love this' 'not bad']\n"
     ]
    }
   ],
   "source": [
    "# get the feature names as numpy array\n",
    "feature_names = np.array(cv.get_feature_names())\n",
    "\n",
    "# Sort the coefficients from the model\n",
    "sorted_coef_index = model_lr.coef_[0].argsort()\n",
    "\n",
    "# Find the 10 smallest and 10 largest coefficients\n",
    "# The 10 largest coefficients are being indexed using [:-11:-1] \n",
    "# so the list returned is in order of largest to smallest\n",
    "print('Smallest Coefs:\\n{}\\n'.format(feature_names[sorted_coef_index[:10]]))\n",
    "print('Largest Coefs: \\n{}'.format(feature_names[sorted_coef_index[:-11:-1]]))"
   ]
  },
  {
   "cell_type": "markdown",
   "metadata": {},
   "source": [
    "### 2. Naive Bayes Classifier"
   ]
  },
  {
   "cell_type": "code",
   "execution_count": 37,
   "metadata": {},
   "outputs": [
    {
     "name": "stdout",
     "output_type": "stream",
     "text": [
      "accuracy for Naive Bayes Classifier : 0.936848029528\n",
      "confusion matrix for Naive Bayes Classifier:\n",
      " [[16687  2778]\n",
      " [ 2047 54891]]\n",
      "F1 score for Logistic Regression : 0.957899604736\n",
      "Precision score for Logistic Regression : 0.95182853873\n",
      "recall score for Logistic Regression : 0.964048614282\n",
      "AUC:  0.910665457925\n"
     ]
    }
   ],
   "source": [
    "from sklearn.naive_bayes import MultinomialNB\n",
    "model_nb=MultinomialNB()\n",
    "model_nb.fit(X_train,y_train)\n",
    "y_pred_nb=model_nb.predict(X_test)\n",
    "print('accuracy for Naive Bayes Classifier :',accuracy_score(y_test,y_pred_nb))\n",
    "print('confusion matrix for Naive Bayes Classifier:\\n',confusion_matrix(y_test,y_pred_nb))\n",
    "print('F1 score for Logistic Regression :',f1_score(y_test,y_pred_nb))\n",
    "print('Precision score for Logistic Regression :',precision_score(y_test,y_pred_nb))\n",
    "print('recall score for Logistic Regression :',recall_score(y_test,y_pred_nb))\n",
    "print('AUC: ', roc_auc_score(y_test, y_pred_nb))"
   ]
  },
  {
   "cell_type": "code",
   "execution_count": 38,
   "metadata": {},
   "outputs": [
    {
     "name": "stdout",
     "output_type": "stream",
     "text": [
      "Smallest Coefs:\n",
      "['worst purchase' 'never recommend' 'total waste' 'nothing work' 'is scam'\n",
      " 'royalty' 'reported stolen' 'zero star' 'very dissapointed'\n",
      " 'started freezing']\n",
      "\n",
      "Largest Coefs: \n",
      "['good' 'great' 'phone' 'it' 'excellent' 'the' 'and' 'love' 'very' 'is']\n"
     ]
    }
   ],
   "source": [
    "# get the feature names as numpy array\n",
    "feature_names = np.array(cv.get_feature_names())\n",
    "\n",
    "# Sort the coefficients from the model\n",
    "sorted_coef_index = model_nb.coef_[0].argsort()\n",
    "\n",
    "# Find the 10 smallest and 10 largest coefficients\n",
    "# The 10 largest coefficients are being indexed using [:-11:-1] \n",
    "# so the list returned is in order of largest to smallest\n",
    "print('Smallest Coefs:\\n{}\\n'.format(feature_names[sorted_coef_index[:10]]))\n",
    "print('Largest Coefs: \\n{}'.format(feature_names[sorted_coef_index[:-11:-1]]))"
   ]
  },
  {
   "cell_type": "markdown",
   "metadata": {},
   "source": [
    "### 3. Random Forest"
   ]
  },
  {
   "cell_type": "code",
   "execution_count": 39,
   "metadata": {
    "collapsed": true
   },
   "outputs": [],
   "source": [
    "from sklearn.ensemble import RandomForestClassifier"
   ]
  },
  {
   "cell_type": "code",
   "execution_count": 40,
   "metadata": {},
   "outputs": [
    {
     "name": "stdout",
     "output_type": "stream",
     "text": [
      "accuracy for Random Forest Classifier : 0.969320576417\n",
      "confusion matrix for Random Forest Classifier:\n",
      " [[18233  1232]\n",
      " [ 1112 55826]]\n",
      "Wall time: 2min 30s\n"
     ]
    }
   ],
   "source": [
    "%%time\n",
    "model_rf=RandomForestClassifier()\n",
    "model_rf.fit(X_train,y_train)\n",
    "y_pred_rf=model_rf.predict(X_test)\n",
    "print('accuracy for Random Forest Classifier :',accuracy_score(y_test,y_pred_rf))\n",
    "print('confusion matrix for Random Forest Classifier:\\n',confusion_matrix(y_test,y_pred_rf))"
   ]
  },
  {
   "cell_type": "code",
   "execution_count": 41,
   "metadata": {},
   "outputs": [
    {
     "name": "stdout",
     "output_type": "stream",
     "text": [
      "Smallest Coefs:\n",
      "['scanning' 'read lot' 'read about' 'black color' 'reaction' 're not'\n",
      " 'blackberry and' 'rd party' 'raw' 'rapidly']\n",
      "\n",
      "Largest Coefs: \n",
      "['not' 'great' 'good' 'after' 'disappointed' 'not work' 'bad' 'is not'\n",
      " 'back' 'love it']\n"
     ]
    }
   ],
   "source": [
    "# get the feature names as numpy array\n",
    "feature_names = np.array(cv.get_feature_names())\n",
    "\n",
    "# Sort the coefficients from the model\n",
    "sorted_coef_index = model_rf.feature_importances_.argsort()\n",
    "\n",
    "# Find the 10 smallest and 10 largest coefficients\n",
    "# The 10 largest coefficients are being indexed using [:-11:-1] \n",
    "# so the list returned is in order of largest to smallest\n",
    "print('Smallest Coefs:\\n{}\\n'.format(feature_names[sorted_coef_index[:10]]))\n",
    "print('Largest Coefs: \\n{}'.format(feature_names[sorted_coef_index[:-11:-1]]))"
   ]
  },
  {
   "cell_type": "code",
   "execution_count": null,
   "metadata": {
    "collapsed": true
   },
   "outputs": [],
   "source": []
  }
 ],
 "metadata": {
  "kernelspec": {
   "display_name": "Python 3",
   "language": "python",
   "name": "python3"
  },
  "language_info": {
   "codemirror_mode": {
    "name": "ipython",
    "version": 3
   },
   "file_extension": ".py",
   "mimetype": "text/x-python",
   "name": "python",
   "nbconvert_exporter": "python",
   "pygments_lexer": "ipython3",
   "version": "3.6.3"
  }
 },
 "nbformat": 4,
 "nbformat_minor": 2
}
